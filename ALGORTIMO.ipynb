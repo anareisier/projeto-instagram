{
  "nbformat": 4,
  "nbformat_minor": 0,
  "metadata": {
    "colab": {
      "name": "ALGORTIMO.ipynb",
      "provenance": [],
      "authorship_tag": "ABX9TyNWSC+OVbq0edOPXOlu2QRE",
      "include_colab_link": true
    },
    "kernelspec": {
      "name": "python3",
      "display_name": "Python 3"
    },
    "language_info": {
      "name": "python"
    }
  },
  "cells": [
    {
      "cell_type": "markdown",
      "metadata": {
        "id": "view-in-github",
        "colab_type": "text"
      },
      "source": [
        "<a href=\"https://colab.research.google.com/github/anareisier/projeto-instagram/blob/main/ALGORTIMO.ipynb\" target=\"_parent\"><img src=\"https://colab.research.google.com/assets/colab-badge.svg\" alt=\"Open In Colab\"/></a>"
      ]
    },
    {
      "cell_type": "code",
      "source": [
        "import pdb; \n",
        "pdb.set_trace()"
      ],
      "metadata": {
        "id": "hzdPe8UA_Vpn"
      },
      "execution_count": null,
      "outputs": []
    },
    {
      "cell_type": "code",
      "source": [
        "\n",
        "#Bibliotecas\n",
        "import matplotlib.pyplot as plt\n",
        "import numpy as np\n",
        "\n",
        "#Dados\n",
        "\n",
        "mesH=[744,672,744,720,744,720,744,744,720,744,720,744]\n",
        "mes=[\"Janeiro\",\"Fevereiro\",\"Março\",\"Abril\",\"Maio\",\"Junho\",\"Julho\",\"Agosto\",\"Setembro\",\"Outubro\",\"Novembro\",\"Dezembro\"]\n",
        "consumo = [0.277,0.195,0.140,0.175,0.210,0.233,0.316,0.249,0.232,0.270,0.231,0.258] #Previsão de carga determinística para os próximos 2 anos\n",
        "#PLDprev = [242.72,165.98,109.02,132.63,218.70,336.99,583.88,583.88,577.37,249.36,88.10,66.67] #Previsão determinística do PLD para os próximos 2 anos\n",
        "pld =[500]*12\n",
        "#previsões probabilísticas, são melhorias a serem implementadas, levando em consideração o Var."
      ],
      "metadata": {
        "id": "ammEgMuaXTIO"
      },
      "execution_count": null,
      "outputs": []
    },
    {
      "cell_type": "code",
      "source": [
        "\n",
        "####PASSO 1\n",
        "print(\"PASSO 1\")\n",
        "parametro=0.12 #margem de porcentagem, quanto o consumo pode variar em relação ao contrato inical definido, que nesse caso vai ser a média\n",
        "media=np.mean(consumo) #média geral, tentar mediana ou moda\n",
        "distp=[]\n",
        "sazom=[]\n",
        "sazo=[]\n",
        "dif=[]\n",
        "print(round(media,3))\n",
        "\n",
        "index = 0\n",
        "for a in consumo:\n",
        "  dist=(media-consumo[index])/media\n",
        "  distp.append(round(dist,2)) \n",
        "  if abs(dist) > parametro:\n",
        "    dif.append(round(media-consumo[index],3))\n",
        "    sazom.append(mes[index])\n",
        "    sazo.append(index+1)\n",
        "  index += 1\n",
        "  \n",
        "print((distp)) #variações de cada mês em %, em relação a media\n",
        "\n",
        "#fazer o tratamento do montante do contrato\n",
        "\n"
      ],
      "metadata": {
        "id": "eDEsQ24L-tEu"
      },
      "execution_count": null,
      "outputs": []
    },
    {
      "cell_type": "code",
      "source": [
        "#PASSO 2 - sobras e deficit\n",
        "print(\"PASSO 2\")\n",
        "print((dif))\n",
        "print((sazom))\n",
        "\n",
        "deficit=[] #meses que faltam volume em relação a margem definida\n",
        "defm=[]\n",
        "sobra=[] #meses que sobram volume em relação a margem definida\n",
        "sobm=[]\n",
        "c=0\n",
        "for b in dif:\n",
        "  if b < 0:\n",
        "    deficit.append(b)\n",
        "    defm.append(sazom[dif.index(b)])\n",
        "  else:\n",
        "    sobra.append(b)\n",
        "    sobm.append(sazom[dif.index(b)])\n",
        "  c+=1\n",
        "\n",
        "print((deficit))\n",
        "print((defm))\n",
        "print((sobra))\n",
        "print(sobm)\n",
        "\n",
        "#ordem prioridade deficit\n",
        "ordemPrioridadeDeficit=sorted(deficit)\n",
        "deficitOrdem=[]\n",
        "for d in ordemPrioridadeDeficit:\n",
        "  b=defm[deficit.index(d)]\n",
        "  deficitOrdem.append(b)\n",
        "  print(b)\n",
        "  \n",
        "#ordem prioridade sobra\n",
        "ordemPrioridadeSobra=sorted(sobra,reverse=True)\n",
        "sobraOrdem=[]\n",
        "for d in ordemPrioridadeSobra:\n",
        "  b=sobm[sobra.index(d)]\n",
        "  sobraOrdem.append(b)\n",
        "  print(b)\n",
        "\n"
      ],
      "metadata": {
        "id": "pctN_5vh-1zn"
      },
      "execution_count": null,
      "outputs": []
    },
    {
      "cell_type": "code",
      "source": [
        "#PASSO 3.0\n",
        "print(\"PASSO 3.0\")\n",
        "#prioridade é o déficit pra n ficar com inadimplência de lastro\n",
        "\n",
        "print(deficitOrdem)\n",
        "print(sobraOrdem)\n",
        "distrib=[]\n",
        "print(len(deficitOrdem))\n",
        "print(len(sobraOrdem)) # se não suprir o suficiente, aumentar o contrato base\n",
        "\n",
        "i=0\n",
        "while i < len(sobraOrdem) : #aloca cada deficit para cada sobra, o deficit é priorizado, pois é mais prejuficial ficar com insuficiencia de lastro, ao invés de liquidar na ccee\n",
        "  pp=(deficitOrdem[i],sobraOrdem[i])\n",
        "  distrib.append(pp)\n",
        "  i+=1\n",
        "\n",
        "print(distrib)\n",
        "\n",
        "\n"
      ],
      "metadata": {
        "id": "UNgKU9dN0cRY"
      },
      "execution_count": null,
      "outputs": []
    },
    {
      "cell_type": "code",
      "source": [
        "#PASSO 4.0\n",
        "print(\"PASSO 4.0\")\n",
        "#matriz sazo\n",
        "#restrições e validações\n",
        "sazonalidade=[0]*12\n",
        "\n",
        "ii=0\n",
        "for a in distrib:\n",
        "  u=distrib[ii][0]\n",
        "  o=distrib[ii][1]\n",
        "  hu=mesH[mes.index(u)]\n",
        "  ho=mesH[mes.index(o)]\n",
        "  if hu == ho:\n",
        "    sazonalidade[mes.index(u)] = 1\n",
        "    sazonalidade[mes.index(o)] = -1\n",
        "  elif hu<ho:\n",
        "    sazonalidade[mes.index(u)] = round(hu/ho,2) #confirmar com weliton\n",
        "    sazonalidade[mes.index(o)] = round(-ho/hu,2) #confirmar com weliton\n",
        "  else:\n",
        "    sazonalidade[mes.index(u)] = round(-hu/ho,2) #confirmar com weliton\n",
        "    sazonalidade[mes.index(o)] = round(ho/hu,2) #confirmar com weliton\n",
        "  ii+=1\n",
        "\n",
        "iii=0\n",
        "for s in sazonalidade:\n",
        "  print(mes[iii]+\":\"+str(s))\n",
        "  iii+=1\n",
        "\n",
        "print(sum(sazonalidade)) #confirmar com weliton\n",
        "\n",
        "#conferencia sazo\n",
        "#m=0\n",
        "#conf=0\n",
        "#for s in sazo:\n",
        " #   conf = [s + ss for ss in sazo]\n",
        "    #m+=1\n",
        "#end for\n",
        "#print(conf)\n",
        "\n",
        "#if conf != 0:\n",
        "  #print(\"Sazo ok\")\n",
        "\n",
        "#if conf == 0:\n",
        "   # print(\"Sazo nok\",conf)\n"
      ],
      "metadata": {
        "id": "OKfldpLwBEFs"
      },
      "execution_count": null,
      "outputs": []
    },
    {
      "cell_type": "code",
      "source": [
        "#função gerar matriz vazia\n",
        "\n",
        "def gerar_matriz (n_linhas, n_colunas):\n",
        "    matriz = []\n",
        "\n",
        "    for _ in range(n_linhas):\n",
        "        matriz.append( [0] * n_colunas )\n",
        "\n",
        "    return matriz\n"
      ],
      "metadata": {
        "id": "VI7fGnsK_WXW"
      },
      "execution_count": null,
      "outputs": []
    },
    {
      "cell_type": "code",
      "source": [
        "#PASSO 5.0\n",
        "print(\"PASSO 5.0\")\n",
        "\n",
        "#pegar a matriz sazonalidade e obter novo montante anual\n",
        "#com o novo consumo fazer o balanço para flex de 5% até 60% com incremento de 5%\n",
        "#obter o custo anual e add numa matriz resultado\n",
        "\n",
        "import xlrd\n",
        "precos = xlrd.open_workbook(\"preco.xls\")\n",
        "sh = precos.sheet_by_index(0)\n",
        "\n",
        "sazop=[0,0.05,0.1,0.15,0.2,0.25,0.3,0.35,0.4,0.45,0.5,0.55,0.6]\n",
        "flexp=[0,0.05,0.1,0.15,0.2,0.25,0.3,0.35,0.4,0.45,0.5,0.55,0.6]\n",
        "contrato = media\n",
        "matrizcusto= gerar_matriz(len(flexp),len(sazop))\n",
        "ano=[]\n",
        "print(pld)\n",
        "\n",
        "i=0\n",
        "j=0\n",
        "sh.cell_value(rowx=0, colx=0)\n",
        "for s in range(sh.ncols): #sazo//coluna\n",
        "  for f in range(sh.nrows): #flex//linha\n",
        "    preco = sh.cell_value(s,f)\n",
        "    index=0\n",
        "    for c in consumo:\n",
        "      contratos=contrato#*(1+sazonalidade[index])\n",
        "      flex = f\n",
        "      takemax = contratos * (1+flex) #montante maximo contratado a ser faturado\n",
        "      takemin = contratos * (1-flex) #montante minimo contratado a ser faturado\n",
        "      if takemin > consumo[index] < takemax: #consumo abaixo da flexibilidade inferior, possibilidade de venda\n",
        "        fat = takemin * preco\n",
        "        spot = (takemin - consumo[index]) * (pld[index])\n",
        "        total = fat - spot\n",
        "        ano.append(round(total,2))\n",
        "      #end if  \n",
        "      elif takemin > consumo[index] > takemax: #consumo acima da flexibilidade superior, exposição, necessário compra\n",
        "        fat = takemax * preco\n",
        "        spot = (takemax - consumo[index]) * (pld[index])\n",
        "        total = fat + spot\n",
        "        ano.append(round(total,2))\n",
        "      #end if  \n",
        "      else:\n",
        "        #consumo dentro da flexibilidade, faturar apenas o consumo\n",
        "        fat = consumo[index] * preco\n",
        "        ano.append(round(fat,2))\n",
        "      index += 1\n",
        "    matrizcusto[f][s]=sum(ano)\n",
        "    j+=1\n",
        "  i+=1  \n",
        "      \n",
        "\n",
        "print(matrizcusto) #exportar csv\n"
      ],
      "metadata": {
        "id": "NAMdYH_Oows3"
      },
      "execution_count": null,
      "outputs": []
    },
    {
      "cell_type": "code",
      "source": [
        "#PASSO 6\n",
        "#obter matriz resultado, 3 menores valores\n",
        "#considerações"
      ],
      "metadata": {
        "id": "x67bNdR5dJGm"
      },
      "execution_count": null,
      "outputs": []
    }
  ]
}